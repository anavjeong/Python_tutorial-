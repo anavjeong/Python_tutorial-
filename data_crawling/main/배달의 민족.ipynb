{
 "cells": [
  {
   "cell_type": "markdown",
   "id": "302ea7a4",
   "metadata": {},
   "source": [
    "# 배달의민족 리뷰 크롤링"
   ]
  },
  {
   "cell_type": "code",
   "execution_count": 32,
   "id": "18c75984",
   "metadata": {},
   "outputs": [],
   "source": [
    "from selenium import webdriver\n",
    "from selenium.webdriver.common.by import By"
   ]
  },
  {
   "cell_type": "code",
   "execution_count": 33,
   "id": "ecab2f34",
   "metadata": {},
   "outputs": [],
   "source": [
    "browser = webdriver.Chrome()"
   ]
  },
  {
   "cell_type": "code",
   "execution_count": 34,
   "id": "ed852246",
   "metadata": {},
   "outputs": [],
   "source": [
    "url = \"https://play.google.com/store/apps/details?id=com.sampleapp\""
   ]
  },
  {
   "cell_type": "code",
   "execution_count": 35,
   "id": "727c7749",
   "metadata": {},
   "outputs": [],
   "source": [
    "browser.get(url)"
   ]
  },
  {
   "cell_type": "code",
   "execution_count": 36,
   "id": "e28d724e",
   "metadata": {},
   "outputs": [],
   "source": [
    "browser.find_element(By.XPATH,'//*[@id=\"yDmH0d\"]/c-wiz[2]/div/div/div[1]/div[2]/div/div[1]/c-wiz[4]/section/div/div/div[5]/div/div/button/span').click()"
   ]
  },
  {
   "cell_type": "code",
   "execution_count": 45,
   "id": "971b1ccf",
   "metadata": {},
   "outputs": [
    {
     "ename": "SyntaxError",
     "evalue": "invalid syntax (CreatorTemp/ipykernel_20540/1064056437.py, line 1)",
     "output_type": "error",
     "traceback": [
      "\u001b[1;36m  File \u001b[1;32m\"C:\\Users\\Public\\Documents\\ESTsoft\\CreatorTemp/ipykernel_20540/1064056437.py\"\u001b[1;36m, line \u001b[1;32m1\u001b[0m\n\u001b[1;33m    review = []RHo1pe.\u001b[0m\n\u001b[1;37m               ^\u001b[0m\n\u001b[1;31mSyntaxError\u001b[0m\u001b[1;31m:\u001b[0m invalid syntax\n"
     ]
    }
   ],
   "source": [
    "review = []\n",
    "reviews = browser.find_elements(By.css, 'RHo1pe > h3YV2d')\n",
    "\n",
    "for i in reviews:\n",
    "#         temp_review = i.text\n",
    "        temp_review = temp_review.replace(\",\", \"\")\n",
    "        review.append(i.text)\n",
    "        \n",
    "review"
   ]
  },
  {
   "cell_type": "code",
   "execution_count": null,
   "id": "a75a984f",
   "metadata": {},
   "outputs": [],
   "source": []
  },
  {
   "cell_type": "code",
   "execution_count": null,
   "id": "764cc90e",
   "metadata": {},
   "outputs": [],
   "source": []
  }
 ],
 "metadata": {
  "kernelspec": {
   "display_name": "Python 3 (ipykernel)",
   "language": "python",
   "name": "python3"
  },
  "language_info": {
   "codemirror_mode": {
    "name": "ipython",
    "version": 3
   },
   "file_extension": ".py",
   "mimetype": "text/x-python",
   "name": "python",
   "nbconvert_exporter": "python",
   "pygments_lexer": "ipython3",
   "version": "3.9.7"
  }
 },
 "nbformat": 4,
 "nbformat_minor": 5
}
