{
 "cells": [
  {
   "cell_type": "markdown",
   "id": "ac656607",
   "metadata": {},
   "source": []
  },
  {
   "cell_type": "markdown",
   "id": "854421ef",
   "metadata": {},
   "source": [
    "# 네이버 뉴스 크롤링하기"
   ]
  },
  {
   "cell_type": "markdown",
   "id": "9e6ba6a1",
   "metadata": {},
   "source": [
    "## 찾고 싶은 단어를  input하면 단어에 대한 뉴스 1페이지부터 10페이지까지 크롤링한다."
   ]
  },
  {
   "cell_type": "markdown",
   "id": "4870f6dd",
   "metadata": {},
   "source": [
    "###  엑셀시트로 만든다."
   ]
  },
  {
   "cell_type": "code",
   "execution_count": 44,
   "id": "723dece5",
   "metadata": {},
   "outputs": [
    {
     "name": "stdout",
     "output_type": "stream",
     "text": [
      "Requirement already satisfied: selenium in c:\\users\\onyou\\anaconda3\\lib\\site-packages (4.5.0)\n",
      "Requirement already satisfied: certifi>=2021.10.8 in c:\\users\\onyou\\anaconda3\\lib\\site-packages (from selenium) (2021.10.8)\n",
      "Note: you may need to restart the kernel to use updated packages.\n",
      "Requirement already satisfied: trio-websocket~=0.9 in c:\\users\\onyou\\anaconda3\\lib\\site-packages (from selenium) (0.9.2)\n",
      "Requirement already satisfied: urllib3[socks]~=1.26 in c:\\users\\onyou\\anaconda3\\lib\\site-packages (from selenium) (1.26.7)\n",
      "Requirement already satisfied: trio~=0.17 in c:\\users\\onyou\\anaconda3\\lib\\site-packages (from selenium) (0.22.0)\n",
      "Requirement already satisfied: sortedcontainers in c:\\users\\onyou\\anaconda3\\lib\\site-packages (from trio~=0.17->selenium) (2.4.0)\n",
      "Requirement already satisfied: outcome in c:\\users\\onyou\\anaconda3\\lib\\site-packages (from trio~=0.17->selenium) (1.2.0)\n",
      "Requirement already satisfied: sniffio in c:\\users\\onyou\\anaconda3\\lib\\site-packages (from trio~=0.17->selenium) (1.2.0)\n",
      "Requirement already satisfied: idna in c:\\users\\onyou\\anaconda3\\lib\\site-packages (from trio~=0.17->selenium) (3.2)\n",
      "Requirement already satisfied: attrs>=19.2.0 in c:\\users\\onyou\\anaconda3\\lib\\site-packages (from trio~=0.17->selenium) (21.2.0)\n",
      "Requirement already satisfied: exceptiongroup>=1.0.0rc9 in c:\\users\\onyou\\anaconda3\\lib\\site-packages (from trio~=0.17->selenium) (1.0.0rc9)\n",
      "Requirement already satisfied: async-generator>=1.9 in c:\\users\\onyou\\anaconda3\\lib\\site-packages (from trio~=0.17->selenium) (1.10)\n",
      "Requirement already satisfied: cffi>=1.14 in c:\\users\\onyou\\anaconda3\\lib\\site-packages (from trio~=0.17->selenium) (1.14.6)\n",
      "Requirement already satisfied: pycparser in c:\\users\\onyou\\anaconda3\\lib\\site-packages (from cffi>=1.14->trio~=0.17->selenium) (2.20)\n",
      "Requirement already satisfied: wsproto>=0.14 in c:\\users\\onyou\\anaconda3\\lib\\site-packages (from trio-websocket~=0.9->selenium) (1.2.0)\n",
      "Requirement already satisfied: PySocks!=1.5.7,<2.0,>=1.5.6 in c:\\users\\onyou\\anaconda3\\lib\\site-packages (from urllib3[socks]~=1.26->selenium) (1.7.1)\n",
      "Requirement already satisfied: h11<1,>=0.9.0 in c:\\users\\onyou\\anaconda3\\lib\\site-packages (from wsproto>=0.14->trio-websocket~=0.9->selenium) (0.14.0)\n"
     ]
    }
   ],
   "source": [
    "pip install selenium"
   ]
  },
  {
   "cell_type": "code",
   "execution_count": null,
   "id": "a0c46f17",
   "metadata": {},
   "outputs": [],
   "source": []
  },
  {
   "cell_type": "code",
   "execution_count": 138,
   "id": "b0664bbf",
   "metadata": {},
   "outputs": [],
   "source": [
    "from selenium import webdriver\n",
    "from selenium.webdriver.common.by import By \n",
    "from bs4 import BeautifulSoup\n",
    "import time\n",
    "#By이 때문에 10분이상 사용했음. 대문자와| 소문자를 주의하자.명확하게 정의하지 않으면 문제가 터진다.\n"
   ]
  },
  {
   "cell_type": "code",
   "execution_count": 140,
   "id": "015d0cee",
   "metadata": {},
   "outputs": [
    {
     "name": "stdout",
     "output_type": "stream",
     "text": [
      "검색할 단어를 입력해주세요 : 미사수학학원\n"
     ]
    }
   ],
   "source": [
    "query_txt = input('검색할 단어를 입력해주세요 : ')\n",
    "\n",
    "driver = webdriver.Chrome()\n",
    "\n",
    "driver.get('https://www.naver.com/')\n",
    "time.sleep(1)\n",
    "\n",
    "element = driver.find_element(By.XPATH, '//*[@id=\"query\"]')\n",
    "element.send_keys(query_txt)\n",
    "element.submit()"
   ]
  },
  {
   "cell_type": "code",
   "execution_count": 144,
   "id": "0c4c1eba",
   "metadata": {},
   "outputs": [],
   "source": [
    "driver.find_element(By.XPATH,'//*[@id=\"lnb\"]/div[1]/div/ul/li[2]').click()\n"
   ]
  },
  {
   "cell_type": "code",
   "execution_count": null,
   "id": "382e4206",
   "metadata": {},
   "outputs": [],
   "source": [
    "driver.find_element(By.XPATH,'//*[@id=\"snb\"]/div[1]/div/div[1]/a[2]').click()"
   ]
  },
  {
   "cell_type": "code",
   "execution_count": 154,
   "id": "e24dc845",
   "metadata": {},
   "outputs": [
    {
     "data": {
      "text/plain": [
       "['미사 고등수학 중등수학 학원 국어 고등영어 중등영어 학원...',\n",
       " '미사고등수학학원 미사중등수학학원 이를 다섯 번 정도 반복하면 편안해질... 미사수학학원 미사종합학원 노력했는데 실패했다고 주저앉지 말고 다시 도전하라고...',\n",
       " '하남고 미사고 내신적중! 하남 미사수학학원',\n",
       " 'com/muse0481/222750186505 #하남고수학학원 #미사수학학원 #미사고수학학원 내신적중 킬러문항완벽대비 1:1클리닉시스템 스터디카페운영 #하남수학학원 여름방학시간표안내...',\n",
       " '미사 수학학원 초5 학생이 추천합니다! 수학이 어렵다고...',\n",
       " '유투엠 엄지척 학생 스토리 장려상 이♥♥ 학생 미사 유투엠 수학학원 미사 유투엠 수학학원은 아래와 같은 특징이 있는 학원입니다 미사 유투엠 수학학원의 특징은...',\n",
       " '하남 미사 수학학원 미사강변 영어학원 국어 전문 소수정예',\n",
       " '하남 미사 수학학원 미사강변 영어학원 국어 전문 소수정예 미사점 위치 다이소... 미사강변수학학원 선생님 기본서 독해파트에서 팁을 많이 얻었습니다. 그리고 이후로...',\n",
       " '하남 망월동 수학학원 미사역 근처 국어 영어학원',\n",
       " '하남수학학원 수업을 했습니다. 점검이 잘 이뤄지는 중학교 특성상 결과에 주의를... 미사수학학원 수업 중심으로 공부를 시켜 자랑스럽고, 저는 친구들과 짧은 시간...',\n",
       " '미사초등영어학원 고등수학 공부방 다니는 2가지 이유',\n",
       " '미사고등수학학원 시험 전에도 그 외에도 바빠서 집에서 공부 시간이 좀처럼 떨어지지 않는다! 그런 경우에는 언제 어떤 예정이 있어서 바쁜가 한번 정리하고 봅시다....',\n",
       " '미사 영수학원 중학생 영어 은가람중 수학 내신 철저해요',\n",
       " '영어학원 그래서 공부가 뭔지 그 다음에 공부를 잘한다는 게 어떤 건지 알아갈 필요가 있습니다. 수학 미사수학학원 하남미사 하나하나 알아보도록 할게요 공부에는 첫...',\n",
       " '[미사 수학학원] 예비중1... 입시전문 선행 기초 고3 수학학원',\n",
       " '[미사 수학학원] 예비중1 예비고1 입시전문 선행 기초 고3 수학학원 수능 전... 따라 미사 고3 수학학원 계속 연습 시험을 풀었습니다. 만약 여러분의 몸이 이런 식으로...',\n",
       " '[미사 수학학원] 청심국제중학교, 입학은 어떻게 해요?',\n",
       " '안녕하세요 미사 최고 수학학원 & 영어학원 미사 페르마 & 정상 어학원입니다. 지난주에는 정상 페르마에서 고교 진학과 관련된 입시설명회를 개최하며 진학설계반...',\n",
       " '하남 수학학원 미사 중등 고등 영어학원 미사강변 국어 내신...',\n",
       " '소수정예 미사수학학원 입니다. 둥근모양의 책상을 이용해 학생과 질문하고... 있는 미사강변수학학원 입니다. 영어는 수능과 학교 내신관리에 모두 도움이 될 수 있게...',\n",
       " '미사수학학원 미사중학교 맘추천 원칙수학.',\n",
       " '고등수학전문학원에서 중학생을 가르쳐주는 학원은 여기밖에 없다고 해서 친구... https://blog.naver.com/principlemath1/222577134175 #미사수학학원 #미사중학교 #원칙수학...',\n",
       " '미사수학학원 강의하는 아이들의 눈길가는 특목고 합격 스토리.',\n",
       " '오늘은 하남미사 수학학원 강의하는 아이들 하남미사 캠퍼스의 특목고 합격생의... 초6때는 하남 미사 수학전문 강의하는 아이들에서 익힌 영어 학원 공부도 이런...',\n",
       " '하남 미사 영어 국어 과학 수학 학원 풍산동...',\n",
       " '하남 미사 영어 국어 과학 수학 학원 풍산동 대치성공스토리학원 대성스는 하남시 미사강변대로 76(풍산동 504-3) 베스트프라자 3층, 4층, 7층에서 아이들 인생의...',\n",
       " '미사 하남 수학학원의 선두주자. 2학기 커리큘럼',\n",
       " '미사 하남 수학학원의 선두주자. 2학기 커리큘럼 이제 여름방학이 마무리되어... 이제 미사수학학원 수학의시대 고등관 최강강사진의 소개로 넘어가볼까요? 훌륭한...',\n",
       " '미사 수학학원 고등 중등 미사신도시 하남미사 영어학원 종합...',\n",
       " '싶은 미사신도시고등수학학원 친구 등 반응도 매우 다양했습니다. 하지만 사회나 역사 과목은 교과서에서 미사수학학원 선생님들이 지적하는 곳에만 나오니 수업을...',\n",
       " '망월동영어학원 미사강변수학학원 제대로된 공부방',\n",
       " '망월동영어학원 미사강변수학학원 제대로된 공부방 안녕하세요 오랜만에 인사드립니다지금까지 업로드가 꽤 적었어요.^^;;꾸준히 책과 글을 찾아주시고 예쁜 아이들을...',\n",
       " '미사 수학학원 내신관리 하는 방법',\n",
       " '안녕하세요~ 미사 수학학원 엠스터디수학전문학원 입니다. 오늘 소개해드릴 내용은 내신관리 제대로 하는 방법에 대해 알려드리도록 하겠습니다. 많은 학생들은...',\n",
       " '미사초등영어학원 고등수학 공부방 확실한 향상이되는곳',\n",
       " '미사고등수학학원 점점 더 치사하다 싶을 정도로 지엽적인 문제가 출제되고 있는 추세이기도 하기 때문에 꼼꼼하게 공부하는 것이 필요합니다.이 학생들에게는...',\n",
       " '미사수학학원 명문대학진학 열강수학학원 추천',\n",
       " '수업 구성은 공식 사이트를 참고해 보세요 #미사수학학원 #미사수학전문학원 #미사수학 #미사수학학원추천 #미사입시전문 #미사중등수학 #미사고등수학 #열강수학전문학원',\n",
       " '미사수학학원 어떤 학원 찾고 계시나요?',\n",
       " '안녕하세요 오늘은 미사수학학원을 찾고 계신 학부모님께 유투엠 수학학원의 특징을 보여드리려고 해요! 미사 유투엠은 어떤 특징이 있을까요? ❤유투엠의 특별한...',\n",
       " '미사수학학원 중고등수학전문 원칙수학을 소개합니다.',\n",
       " '오늘은 미사수학학원, 원칙수학을 사진과 영상으로 함께 담아 보았습니다~ 학원시... 언제나 편안하게 다닐수 있어요 ^^ 위치 : 미사강변대로 226번길 9 감사합니다 ~',\n",
       " '[미사 수학학원] AI와 수학',\n",
       " '안녕하세요 미사 최고 수학학원 & 영어학원 미사 페르마 & 정상 어학원입니다. 오늘은 수학과 AI두 분야의 연관성에 대해 조금 알아보려고 합니다. AI는 컴퓨터공학의...',\n",
       " '[하남미사수학학원] 2023학년도 신규생 모집 안내(예비초4)',\n",
       " '고수학학원이 개원 6년차가 되어 하남미사지역에서 수학를 대표하는 학원으로 성장하였습니다 초등 저학년에서 고학년으로 넘어가는 징검다리인 4학년이...',\n",
       " '미사 수학내신 맛집! 대치프라임학원 방문후기!',\n",
       " '여러분들도 수학내신을 걱정하는 자녀를위해 등록을 해보시는건 어떨까요~ 그럼 저는 다음에 또 올게요~ #미사수리논술. #미사수시준비 #미사보습학원. #미사수학학원...',\n",
       " '하남미사 수학학원 수포자를 줄이는 파인만 강동수학학원',\n",
       " '강동과 하남미사 수학학원인 파인만에서는 이런 수학분야에서 국제적 위상과 교육... 하남미사 학생들이 수학학원을 고민한다면, 파인만학원의 선행과 다음학기...',\n",
       " '망월동 영어학원 강일동 초등 수학학원 미사 중등고등 국어...',\n",
       " '망월동 영어학원 강일동 초등 수학학원 미사 중등고등 국어 내신전문 종합학원... 집에서는 미사수학학원 숙제를 제외하곤 공부란 것을 해본적이 없었던 학생이 스스로...',\n",
       " '[미사 수학학원 예비고1] 수학 비상하다!',\n",
       " '매쓰온 에듀케이션 - 미사수학교육원 예비고1 수학 개설 미사 수학학원 어디가 좋을까요? 예비고1 학생들 선행을 빨리나가는게 좋을까요? 자사고 학생들은 어떻게...',\n",
       " '미사강변 초등중등 수학학원 여름방학 시간표',\n",
       " 'https://cafe.naver.com/ira111/603479 하남초등수학학원 미사초등수학학원 윤슬중학교 미강중학교 미사중학교 망월동 미사동 풍산동 하남중등수학학원 미사중등수학학원...',\n",
       " '하남 미사 신도시 수학학원 중등 영어학원 고등.',\n",
       " '하남 미사수학학원 시기별로 본다면 모의평가 직후부터 여름방학 기간까지 기본... 미사중등수학학원 문제를 예측하고 신유형을 파악할 수 있는 좋은 기회이기...',\n",
       " '미사 수학학원에서 수포자 극복법 알려드려요!',\n",
       " \"미사 수학학원 엠스터디수학전문학원 이에요. 이제는 '수포자'라는 말이 너무나 많이 알려져 모르는 사람이 없을 정도죠. '수학을 포기한 자'라는 뜻을 가지고 있는...\"]"
      ]
     },
     "execution_count": 154,
     "metadata": {},
     "output_type": "execute_result"
    }
   ],
   "source": [
    "\n",
    "titles = driver.find_elements(By.CLASS_NAME, 'api_txt_lines')\n",
    "title = []\n",
    "\n",
    "for i in titles:\n",
    "    temp_title = i.text\n",
    "    title.append(temp_title)\n",
    "\n",
    "title"
   ]
  },
  {
   "cell_type": "code",
   "execution_count": null,
   "id": "e316e894",
   "metadata": {},
   "outputs": [],
   "source": [
    "\n",
    "    "
   ]
  },
  {
   "cell_type": "code",
   "execution_count": null,
   "id": "808973fa",
   "metadata": {},
   "outputs": [],
   "source": [
    "\n"
   ]
  },
  {
   "cell_type": "code",
   "execution_count": null,
   "id": "abddb21b",
   "metadata": {},
   "outputs": [],
   "source": []
  },
  {
   "cell_type": "code",
   "execution_count": null,
   "id": "94b426c8",
   "metadata": {},
   "outputs": [],
   "source": []
  }
 ],
 "metadata": {
  "kernelspec": {
   "display_name": "Python 3 (ipykernel)",
   "language": "python",
   "name": "python3"
  },
  "language_info": {
   "codemirror_mode": {
    "name": "ipython",
    "version": 3
   },
   "file_extension": ".py",
   "mimetype": "text/x-python",
   "name": "python",
   "nbconvert_exporter": "python",
   "pygments_lexer": "ipython3",
   "version": "3.10.4"
  }
 },
 "nbformat": 4,
 "nbformat_minor": 5
}
