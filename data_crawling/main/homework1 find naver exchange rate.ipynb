{
 "cells": [
  {
   "cell_type": "code",
   "execution_count": 6,
   "id": "e7bb880e",
   "metadata": {},
   "outputs": [],
   "source": [
    "import pandas as pd\n",
    "from selenium import webdriver\n",
    "from bs4 import BeautifulSoup"
   ]
  },
  {
   "cell_type": "code",
   "execution_count": 7,
   "id": "39964479",
   "metadata": {},
   "outputs": [],
   "source": [
    "browser = webdriver.Chrome()"
   ]
  },
  {
   "cell_type": "code",
   "execution_count": 11,
   "id": "80671c1b",
   "metadata": {},
   "outputs": [],
   "source": []
  },
  {
   "cell_type": "code",
   "execution_count": 15,
   "id": "fa14d129",
   "metadata": {},
   "outputs": [
    {
     "ename": "TypeError",
     "evalue": "'NoneType' object is not subscriptable",
     "output_type": "error",
     "traceback": [
      "\u001b[1;31m---------------------------------------------------------------------------\u001b[0m",
      "\u001b[1;31mTypeError\u001b[0m                                 Traceback (most recent call last)",
      "\u001b[1;32mC:\\Users\\Public\\Documents\\ESTsoft\\CreatorTemp/ipykernel_19984/2727760060.py\u001b[0m in \u001b[0;36m<module>\u001b[1;34m\u001b[0m\n\u001b[1;32m----> 1\u001b[1;33m \u001b[0mbrowser\u001b[0m\u001b[1;33m.\u001b[0m\u001b[0mget\u001b[0m\u001b[1;33m(\u001b[0m\u001b[1;34m'https://search.naver.com/search.naver?where=nexearch&sm=top_hty&fbm=1&ie=utf8&query=%ED%99%98%EC%9C%A8'\u001b[0m\u001b[1;33m)\u001b[0m\u001b[1;33m[\u001b[0m\u001b[1;36m0\u001b[0m\u001b[1;33m]\u001b[0m\u001b[1;33m\u001b[0m\u001b[1;33m\u001b[0m\u001b[0m\n\u001b[0m",
      "\u001b[1;31mTypeError\u001b[0m: 'NoneType' object is not subscriptable"
     ]
    }
   ],
   "source": [
    "browser.get('https://search.naver.com/search.naver?where=nexearch&sm=top_hty&fbm=1&ie=utf8&query=%ED%99%98%EC%9C%A8')"
   ]
  },
  {
   "cell_type": "code",
   "execution_count": 16,
   "id": "6a8d623d",
   "metadata": {},
   "outputs": [
    {
     "data": {
      "text/html": [
       "<div>\n",
       "<style scoped>\n",
       "    .dataframe tbody tr th:only-of-type {\n",
       "        vertical-align: middle;\n",
       "    }\n",
       "\n",
       "    .dataframe tbody tr th {\n",
       "        vertical-align: top;\n",
       "    }\n",
       "\n",
       "    .dataframe thead th {\n",
       "        text-align: right;\n",
       "    }\n",
       "</style>\n",
       "<table border=\"1\" class=\"dataframe\">\n",
       "  <thead>\n",
       "    <tr style=\"text-align: right;\">\n",
       "      <th></th>\n",
       "      <th>통화명</th>\n",
       "      <th>매매기준율</th>\n",
       "      <th>전일대비</th>\n",
       "      <th>등락률</th>\n",
       "    </tr>\n",
       "  </thead>\n",
       "  <tbody>\n",
       "    <tr>\n",
       "      <th>0</th>\n",
       "      <td>미국 USD</td>\n",
       "      <td>1425.00</td>\n",
       "      <td>전일대비하락8.00</td>\n",
       "      <td>-0.56%</td>\n",
       "    </tr>\n",
       "    <tr>\n",
       "      <th>1</th>\n",
       "      <td>일본 JPY 100</td>\n",
       "      <td>961.28</td>\n",
       "      <td>전일대비하락7.13</td>\n",
       "      <td>-0.74%</td>\n",
       "    </tr>\n",
       "    <tr>\n",
       "      <th>2</th>\n",
       "      <td>유럽연합 EUR</td>\n",
       "      <td>1419.02</td>\n",
       "      <td>전일대비하락6.39</td>\n",
       "      <td>-0.45%</td>\n",
       "    </tr>\n",
       "    <tr>\n",
       "      <th>3</th>\n",
       "      <td>중국 CNY</td>\n",
       "      <td>194.94</td>\n",
       "      <td>전일대비하락1.02</td>\n",
       "      <td>-0.52%</td>\n",
       "    </tr>\n",
       "    <tr>\n",
       "      <th>4</th>\n",
       "      <td>영국 GBP</td>\n",
       "      <td>1633.62</td>\n",
       "      <td>전일대비하락9.60</td>\n",
       "      <td>-0.58%</td>\n",
       "    </tr>\n",
       "    <tr>\n",
       "      <th>5</th>\n",
       "      <td>호주 AUD</td>\n",
       "      <td>912.36</td>\n",
       "      <td>전일대비하락2.68</td>\n",
       "      <td>-0.29%</td>\n",
       "    </tr>\n",
       "    <tr>\n",
       "      <th>6</th>\n",
       "      <td>캐나다 CAD</td>\n",
       "      <td>1047.68</td>\n",
       "      <td>전일대비하락3.91</td>\n",
       "      <td>-0.37%</td>\n",
       "    </tr>\n",
       "    <tr>\n",
       "      <th>7</th>\n",
       "      <td>뉴질랜드 NZD</td>\n",
       "      <td>819.23</td>\n",
       "      <td>전일대비하락5.46</td>\n",
       "      <td>-0.66%</td>\n",
       "    </tr>\n",
       "  </tbody>\n",
       "</table>\n",
       "</div>"
      ],
      "text/plain": [
       "          통화명    매매기준율        전일대비     등락률\n",
       "0      미국 USD  1425.00  전일대비하락8.00  -0.56%\n",
       "1  일본 JPY 100   961.28  전일대비하락7.13  -0.74%\n",
       "2    유럽연합 EUR  1419.02  전일대비하락6.39  -0.45%\n",
       "3      중국 CNY   194.94  전일대비하락1.02  -0.52%\n",
       "4      영국 GBP  1633.62  전일대비하락9.60  -0.58%\n",
       "5      호주 AUD   912.36  전일대비하락2.68  -0.29%\n",
       "6     캐나다 CAD  1047.68  전일대비하락3.91  -0.37%\n",
       "7    뉴질랜드 NZD   819.23  전일대비하락5.46  -0.66%"
      ]
     },
     "execution_count": 16,
     "metadata": {},
     "output_type": "execute_result"
    }
   ],
   "source": [
    "pd.read_html(url)[0]"
   ]
  },
  {
   "cell_type": "raw",
   "id": "76929e01",
   "metadata": {},
   "source": [
    "url = (\"https://www.google.com/search?q=google&rlz=1C1CHBD_koKR974KR976&source=lnms&tbm=nws&sa=X&ved=2ahUKEwjc7cGg-vz6AhXS7GEKHQwQCSAQ_AUoBHoECAEQBg&biw=767&bih=691&dpr=1.25\")"
   ]
  },
  {
   "cell_type": "code",
   "execution_count": 21,
   "id": "59043237",
   "metadata": {},
   "outputs": [],
   "source": [
    "browser.get(url)"
   ]
  },
  {
   "cell_type": "code",
   "execution_count": null,
   "id": "5dab1ae9",
   "metadata": {},
   "outputs": [],
   "source": []
  }
 ],
 "metadata": {
  "kernelspec": {
   "display_name": "Python 3 (ipykernel)",
   "language": "python",
   "name": "python3"
  },
  "language_info": {
   "codemirror_mode": {
    "name": "ipython",
    "version": 3
   },
   "file_extension": ".py",
   "mimetype": "text/x-python",
   "name": "python",
   "nbconvert_exporter": "python",
   "pygments_lexer": "ipython3",
   "version": "3.9.7"
  }
 },
 "nbformat": 4,
 "nbformat_minor": 5
}
