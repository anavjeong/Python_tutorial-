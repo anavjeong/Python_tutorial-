{
 "cells": [
  {
   "cell_type": "code",
   "execution_count": 68,
   "id": "cc0742ab",
   "metadata": {},
   "outputs": [],
   "source": [
    "from bs4 import BeautifulSoup"
   ]
  },
  {
   "cell_type": "code",
   "execution_count": 69,
   "id": "840778b5",
   "metadata": {},
   "outputs": [],
   "source": [
    "my_html = '''\n",
    "<html>\n",
    "    <head>\n",
    "    </head>\n",
    "    <body>\n",
    "        <h1>H1 태그 안에 글이 씌여진 상태</h1>\n",
    "        <h3>h3 태그 안의 글1</h3>\n",
    "        <h3>h3 태그 안의 글2</h3>\n",
    "        <h3 id=\"main_head\">h3 태그 안의 글3</h3>\n",
    "\n",
    "        <p>p 태그 안의 글 1</p>\n",
    "        <p>p 태그 안의 글 2</p>\n",
    "\n",
    "        <p class=\"main_idea\">main_idea 클래스 p 태그 안의 글1</p>\n",
    "        <p class=\"main_idea\">main_idea 클래스 p 태그 안의 글2</p>\n",
    "        <p class=\"main_idea\" id=\"good_idea\">main_idea 클래스이면서 id가 good_idea인 p 태그 안의 글3</p>\n",
    "        <p class=\"main_idea\">main_idea 클래스 p 태그 안의 글3</p>\n",
    "        \n",
    "        <div id=\"main_div\">\n",
    "            <p>div 안의 p태그 데이터</p>\n",
    "        </div>\n",
    "    </body>\n",
    "</html>\n",
    "'''"
   ]
  },
  {
   "cell_type": "code",
   "execution_count": null,
   "id": "425336eb",
   "metadata": {},
   "outputs": [],
   "source": []
  },
  {
   "cell_type": "code",
   "execution_count": 70,
   "id": "41203cc3",
   "metadata": {},
   "outputs": [
    {
     "name": "stdout",
     "output_type": "stream",
     "text": [
      "<class 'bs4.BeautifulSoup'>\n"
     ]
    }
   ],
   "source": [
    "soup = BeautifulSoup(my_html, 'html.parser')\n",
    "print(type(soup))"
   ]
  },
  {
   "cell_type": "code",
   "execution_count": 72,
   "id": "6200dc10",
   "metadata": {},
   "outputs": [
    {
     "name": "stdout",
     "output_type": "stream",
     "text": [
      "[<p>p 태그 안의 글 1</p>, <p>p 태그 안의 글 2</p>, <p class=\"main_idea\">main_idea 클래스 p 태그 안의 글1</p>, <p class=\"main_idea\">main_idea 클래스 p 태그 안의 글2</p>, <p class=\"main_idea\" id=\"good_idea\">main_idea 클래스이면서 id가 good_idea인 p 태그 안의 글3</p>, <p class=\"main_idea\">main_idea 클래스 p 태그 안의 글3</p>, <p>div 안의 p태그 데이터</p>]\n"
     ]
    }
   ],
   "source": [
    "print(soup.select('p'))"
   ]
  },
  {
   "cell_type": "code",
   "execution_count": 74,
   "id": "8c04e7fb",
   "metadata": {},
   "outputs": [
    {
     "name": "stdout",
     "output_type": "stream",
     "text": [
      "[<p class=\"main_idea\" id=\"good_idea\">main_idea 클래스이면서 id가 good_idea인 p 태그 안의 글3</p>]\n"
     ]
    }
   ],
   "source": [
    "print(soup.select('#good_idea'))"
   ]
  },
  {
   "cell_type": "code",
   "execution_count": null,
   "id": "8a2ede04",
   "metadata": {},
   "outputs": [],
   "source": []
  },
  {
   "cell_type": "code",
   "execution_count": null,
   "id": "a59e92df",
   "metadata": {},
   "outputs": [],
   "source": []
  }
 ],
 "metadata": {
  "kernelspec": {
   "display_name": "Python 3 (ipykernel)",
   "language": "python",
   "name": "python3"
  },
  "language_info": {
   "codemirror_mode": {
    "name": "ipython",
    "version": 3
   },
   "file_extension": ".py",
   "mimetype": "text/x-python",
   "name": "python",
   "nbconvert_exporter": "python",
   "pygments_lexer": "ipython3",
   "version": "3.9.7"
  }
 },
 "nbformat": 4,
 "nbformat_minor": 5
}
