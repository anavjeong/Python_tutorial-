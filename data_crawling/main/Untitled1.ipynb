{
 "cells": [
  {
   "cell_type": "code",
   "execution_count": 1,
   "id": "e66e4b07",
   "metadata": {},
   "outputs": [],
   "source": [
    "my_list = ['일','이', '삼', '사', '오']"
   ]
  },
  {
   "cell_type": "code",
   "execution_count": 2,
   "id": "8eef831d",
   "metadata": {},
   "outputs": [],
   "source": [
    "my_list.remove('이')"
   ]
  },
  {
   "cell_type": "code",
   "execution_count": 4,
   "id": "5873364e",
   "metadata": {},
   "outputs": [
    {
     "name": "stdout",
     "output_type": "stream",
     "text": [
      "['일', '삼', '사', '오']\n"
     ]
    }
   ],
   "source": [
    "print(my_list)"
   ]
  },
  {
   "cell_type": "code",
   "execution_count": 12,
   "id": "c9bf581b",
   "metadata": {},
   "outputs": [],
   "source": [
    "number = 1987\n",
    "movie_title = \"1987\""
   ]
  },
  {
   "cell_type": "code",
   "execution_count": 6,
   "id": "1d0866c9",
   "metadata": {},
   "outputs": [
    {
     "name": "stdout",
     "output_type": "stream",
     "text": [
      "number의 자료형\n"
     ]
    }
   ],
   "source": [
    "print('number의 자료형')"
   ]
  },
  {
   "cell_type": "code",
   "execution_count": 7,
   "id": "7832ef08",
   "metadata": {},
   "outputs": [
    {
     "name": "stdout",
     "output_type": "stream",
     "text": [
      "<class 'int'>\n"
     ]
    }
   ],
   "source": [
    "print(type(number))"
   ]
  },
  {
   "cell_type": "code",
   "execution_count": 13,
   "id": "4c571ec1",
   "metadata": {},
   "outputs": [
    {
     "name": "stdout",
     "output_type": "stream",
     "text": [
      "<class 'str'>\n"
     ]
    }
   ],
   "source": [
    "print(type(movie_title))\n"
   ]
  },
  {
   "cell_type": "code",
   "execution_count": 18,
   "id": "77c7861d",
   "metadata": {},
   "outputs": [
    {
     "name": "stdout",
     "output_type": "stream",
     "text": [
      "안녕하세요, 홍길동님!\n",
      "안녕하세요, 정온유님!\n",
      "안녕하세요, 김평안님!\n"
     ]
    }
   ],
   "source": [
    "user_name1 = '홍길동'\n",
    "user_name2 = '정온유'\n",
    "user_name3 = '김평안'\n",
    "\n",
    "print(f'안녕하세요, {user_name1}님!')\n",
    "print(f'안녕하세요, {user_name2}님!')\n",
    "print(f'안녕하세요, {user_name3}님!')"
   ]
  },
  {
   "cell_type": "code",
   "execution_count": 24,
   "id": "138ccb21",
   "metadata": {},
   "outputs": [
    {
     "name": "stdout",
     "output_type": "stream",
     "text": [
      "홍길동과 정온유\n",
      "****************************************************************************************************\n"
     ]
    }
   ],
   "source": [
    "print(user_name1 + \"과 \" + user_name2)\n",
    "print('*' * 100)"
   ]
  },
  {
   "cell_type": "code",
   "execution_count": 25,
   "id": "9da5fd1a",
   "metadata": {},
   "outputs": [],
   "source": [
    "a = 3.0"
   ]
  },
  {
   "cell_type": "code",
   "execution_count": 26,
   "id": "389f7209",
   "metadata": {},
   "outputs": [],
   "source": [
    "string_a = '3'"
   ]
  },
  {
   "cell_type": "code",
   "execution_count": 24,
   "id": "7561d630",
   "metadata": {},
   "outputs": [
    {
     "name": "stdout",
     "output_type": "stream",
     "text": [
      "김철수\n"
     ]
    }
   ],
   "source": [
    "import random\n",
    "\n",
    "student = ['홍길동','김철수','한영희']\n",
    "randomIndex = student[random.randint(0,2)]\n",
    "print(randomIndex)\n"
   ]
  },
  {
   "cell_type": "code",
   "execution_count": null,
   "id": "6f33f155",
   "metadata": {},
   "outputs": [],
   "source": [
    "import random\n",
    "\n",
    "user_input = input()\n",
    "game_input =['가위', '바위', '보']"
   ]
  },
  {
   "cell_type": "code",
   "execution_count": null,
   "id": "288e6340",
   "metadata": {},
   "outputs": [],
   "source": []
  }
 ],
 "metadata": {
  "kernelspec": {
   "display_name": "Python 3 (ipykernel)",
   "language": "python",
   "name": "python3"
  },
  "language_info": {
   "codemirror_mode": {
    "name": "ipython",
    "version": 3
   },
   "file_extension": ".py",
   "mimetype": "text/x-python",
   "name": "python",
   "nbconvert_exporter": "python",
   "pygments_lexer": "ipython3",
   "version": "3.9.7"
  }
 },
 "nbformat": 4,
 "nbformat_minor": 5
}
