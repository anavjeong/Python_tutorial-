{
 "cells": [
  {
   "cell_type": "markdown",
   "id": "ee360c37",
   "metadata": {},
   "source": [
    "# 구글플레이 댓글 가져오기"
   ]
  },
  {
   "cell_type": "code",
   "execution_count": 4,
   "id": "b9275c31",
   "metadata": {},
   "outputs": [],
   "source": [
    "from selenium import webdriver\n",
    "from selenium.webdriver.common.by import By\n",
    "from selenium.webdriver import ActionChains\n",
    "from selenium.webdriver.common.keys import Keys\n",
    "import time\n"
   ]
  },
  {
   "cell_type": "code",
   "execution_count": 5,
   "id": "4747c2b2",
   "metadata": {},
   "outputs": [],
   "source": [
    "browser = webdriver.Chrome()"
   ]
  },
  {
   "cell_type": "code",
   "execution_count": 40,
   "id": "b81e8a16",
   "metadata": {},
   "outputs": [
    {
     "name": "stdout",
     "output_type": "stream",
     "text": [
      "검색하시고자 하는 앱 이름을 입력하세요.쿠팡\n",
      "https://play.google.com/store/search?q=쿠팡\n"
     ]
    }
   ],
   "source": [
    "search_word = input('검색하시고자 하는 앱 이름을 입력하세요.')\n",
    "\n",
    "\n",
    "url = 'https://play.google.com/store/search?q='\n",
    "\n",
    "final_url = url+search_word\n",
    "\n",
    "final_final= print(final_url)\n",
    "browser.get(final_url)\n",
    "\n",
    "\n",
    "# app_url = get_element\n",
    "\n",
    "# browser.get(app_url)\n",
    "\n",
    "# browser.get(\"\")"
   ]
  },
  {
   "cell_type": "code",
   "execution_count": 41,
   "id": "8d55ae90",
   "metadata": {},
   "outputs": [],
   "source": [
    "browser.find_element(By.XPATH,'//*[@id=\"yDmH0d\"]/c-wiz[2]/div/div/c-wiz/c-wiz/c-wiz/section/div/div/div/div[1]/div/div/div/a').click()"
   ]
  },
  {
   "cell_type": "code",
   "execution_count": 42,
   "id": "cabb4470",
   "metadata": {},
   "outputs": [],
   "source": [
    "browser.find_element(By.XPATH,'//*[@id=\"yDmH0d\"]/c-wiz[3]/div/div/div[1]/div[2]/div/div[1]/c-wiz[4]/section/header/div/div[2]/button').click()"
   ]
  },
  {
   "cell_type": "raw",
   "id": "72152003",
   "metadata": {},
   "source": []
  },
  {
   "cell_type": "code",
   "execution_count": 43,
   "id": "04cdad79",
   "metadata": {},
   "outputs": [],
   "source": [
    "browser.find_element(By.CLASS_NAME , 'fysCi').click()\n",
    "modal = browser.find_element(By.CLASS_NAME , 'fysCi')\n",
    "\n",
    "import time\n",
    "for i in range(3):\n",
    "    try:\n",
    "        browser.execute_script(\"arguments[0].scrollTo(0, arguments[0].scrollHeight);\",modal)\n",
    "        time.sleep(2)\n",
    "    except:\n",
    "        print('try에 오류')\n",
    "        browser.find_element().click()"
   ]
  },
  {
   "cell_type": "code",
   "execution_count": 45,
   "id": "01578dc3",
   "metadata": {},
   "outputs": [],
   "source": [
    "import pandas as pd\n",
    "\n",
    "containers = browser.find_elements(By.CLASS_NAME, 'RHo1pe')\n",
    "data_list  = []\n",
    "\n",
    "for container in containers:\n",
    "    \n",
    "    user_name = container.find_element(By.CLASS_NAME,'X5PpBb').text\n",
    "    \n",
    "    rating = container.find_element(By.CLASS_NAME,'iXRFPc').get_attribute('aria-label')[10]\n",
    "\n",
    "    data = {\n",
    "        \"user_name\" : user_name,\n",
    "        \"rating\" : rating\n",
    "    }\n",
    "    \n",
    "    data_list.append(data)\n",
    "    \n",
    "df = pd.DataFrame(data_list)\n",
    "df.to_csv('./playstore.csv', encoding = 'utf-8-sig')"
   ]
  },
  {
   "cell_type": "code",
   "execution_count": null,
   "id": "e040cf4a",
   "metadata": {},
   "outputs": [],
   "source": [
    "df=  pd.read_csv('./pplaystore',encoding = 'utf-8-sig')\n",
    "df"
   ]
  },
  {
   "cell_type": "code",
   "execution_count": null,
   "id": "6fa2f0ce",
   "metadata": {},
   "outputs": [],
   "source": []
  },
  {
   "cell_type": "code",
   "execution_count": null,
   "id": "bb25ad46",
   "metadata": {},
   "outputs": [],
   "source": []
  },
  {
   "cell_type": "code",
   "execution_count": null,
   "id": "9ba487ee",
   "metadata": {},
   "outputs": [],
   "source": []
  },
  {
   "cell_type": "code",
   "execution_count": null,
   "id": "6c28b16c",
   "metadata": {},
   "outputs": [],
   "source": []
  }
 ],
 "metadata": {
  "kernelspec": {
   "display_name": "Python 3 (ipykernel)",
   "language": "python",
   "name": "python3"
  },
  "language_info": {
   "codemirror_mode": {
    "name": "ipython",
    "version": 3
   },
   "file_extension": ".py",
   "mimetype": "text/x-python",
   "name": "python",
   "nbconvert_exporter": "python",
   "pygments_lexer": "ipython3",
   "version": "3.9.7"
  }
 },
 "nbformat": 4,
 "nbformat_minor": 5
}
