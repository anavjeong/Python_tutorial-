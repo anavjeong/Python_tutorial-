{
 "cells": [
  {
   "cell_type": "code",
   "execution_count": 13,
   "id": "52adaca6",
   "metadata": {},
   "outputs": [
    {
     "name": "stdout",
     "output_type": "stream",
     "text": [
      "3\n"
     ]
    }
   ],
   "source": [
    "apples = 3 \n",
    "\n",
    "print(apples)"
   ]
  },
  {
   "cell_type": "code",
   "execution_count": 15,
   "id": "16a53c6c",
   "metadata": {},
   "outputs": [
    {
     "name": "stdout",
     "output_type": "stream",
     "text": [
      "my age 50\n"
     ]
    }
   ],
   "source": [
    "num = 50\n",
    "s = 'my age %d' % num\n",
    " \n",
    "print(s)\n",
    "\n"
   ]
  },
  {
   "cell_type": "code",
   "execution_count": 16,
   "id": "1daef753",
   "metadata": {},
   "outputs": [
    {
     "name": "stdout",
     "output_type": "stream",
     "text": [
      "my name is kim\n",
      "my name is park\n",
      "my name is lee\n",
      "give me 10000 won\n",
      "value 3.141592\n"
     ]
    }
   ],
   "source": [
    "names = ['kim', 'park', 'lee']\n",
    "for name in names:\n",
    "    print('my name is %s' % name)\n",
    " \n",
    "# % 기호 정수 출력\n",
    "money = 10000\n",
    "s2 = 'give me %d won' % money\n",
    "print(s2)\n",
    " \n",
    "# % 기호 실수 출력\n",
    "d = 3.141592\n",
    "print('value %f' % d)\n",
    "\n"
   ]
  },
  {
   "cell_type": "code",
   "execution_count": 17,
   "id": "f0713a0c",
   "metadata": {},
   "outputs": [
    {
     "name": "stdout",
     "output_type": "stream",
     "text": [
      "0\n"
     ]
    }
   ],
   "source": [
    "print(100%2)"
   ]
  },
  {
   "cell_type": "markdown",
   "id": "238cad72",
   "metadata": {},
   "source": [
    "print(11 % 5)"
   ]
  },
  {
   "cell_type": "code",
   "execution_count": 18,
   "id": "a0326f79",
   "metadata": {},
   "outputs": [
    {
     "name": "stdout",
     "output_type": "stream",
     "text": [
      "1\n"
     ]
    }
   ],
   "source": [
    "print(11 % 5)"
   ]
  },
  {
   "cell_type": "code",
   "execution_count": 20,
   "id": "4463abe7",
   "metadata": {},
   "outputs": [
    {
     "name": "stdout",
     "output_type": "stream",
     "text": [
      "2\n"
     ]
    }
   ],
   "source": [
    "print(11 // 5)"
   ]
  },
  {
   "cell_type": "code",
   "execution_count": 21,
   "id": "3414314b",
   "metadata": {},
   "outputs": [],
   "source": [
    "o = 2"
   ]
  },
  {
   "cell_type": "code",
   "execution_count": 22,
   "id": "152d3188",
   "metadata": {},
   "outputs": [],
   "source": [
    "o = o + 1"
   ]
  },
  {
   "cell_type": "code",
   "execution_count": 26,
   "id": "63206bf0",
   "metadata": {},
   "outputs": [
    {
     "name": "stdout",
     "output_type": "stream",
     "text": [
      "3\n"
     ]
    }
   ],
   "source": [
    "print(o)"
   ]
  },
  {
   "cell_type": "code",
   "execution_count": 24,
   "id": "b5e839fe",
   "metadata": {},
   "outputs": [],
   "source": [
    "cnt = 5"
   ]
  },
  {
   "cell_type": "code",
   "execution_count": 27,
   "id": "8c3cbf8e",
   "metadata": {},
   "outputs": [],
   "source": [
    "cnt = cnt + 1"
   ]
  },
  {
   "cell_type": "code",
   "execution_count": 58,
   "id": "12954a0c",
   "metadata": {},
   "outputs": [
    {
     "name": "stdout",
     "output_type": "stream",
     "text": [
      "6\n"
     ]
    }
   ],
   "source": [
    "print(cnt)"
   ]
  },
  {
   "cell_type": "code",
   "execution_count": 59,
   "id": "247f2c25",
   "metadata": {},
   "outputs": [],
   "source": [
    "grade = 3.4 "
   ]
  },
  {
   "cell_type": "code",
   "execution_count": 61,
   "id": "02220445",
   "metadata": {},
   "outputs": [
    {
     "name": "stdout",
     "output_type": "stream",
     "text": [
      "<class 'float'>\n"
     ]
    }
   ],
   "source": [
    "print(type(grade))"
   ]
  },
  {
   "cell_type": "code",
   "execution_count": 63,
   "id": "e7b49145",
   "metadata": {},
   "outputs": [
    {
     "name": "stdout",
     "output_type": "stream",
     "text": [
      "hello\n"
     ]
    }
   ],
   "source": [
    "print('hello')"
   ]
  },
  {
   "cell_type": "code",
   "execution_count": 64,
   "id": "297f4726",
   "metadata": {},
   "outputs": [],
   "source": [
    "hello =15"
   ]
  },
  {
   "cell_type": "code",
   "execution_count": 65,
   "id": "6b021a44",
   "metadata": {},
   "outputs": [
    {
     "name": "stdout",
     "output_type": "stream",
     "text": [
      "15\n"
     ]
    }
   ],
   "source": [
    "print(hello)"
   ]
  },
  {
   "cell_type": "code",
   "execution_count": 66,
   "id": "e6307d46",
   "metadata": {},
   "outputs": [
    {
     "name": "stdout",
     "output_type": "stream",
     "text": [
      "hello\n"
     ]
    }
   ],
   "source": [
    "print('hello')"
   ]
  },
  {
   "cell_type": "code",
   "execution_count": 67,
   "id": "e6f7fb6c",
   "metadata": {},
   "outputs": [
    {
     "name": "stdout",
     "output_type": "stream",
     "text": [
      "number의 자료형\n",
      "<class 'int'>\n",
      "\n",
      "\n",
      "movie_title의 자료형\n",
      "<class 'str'>\n"
     ]
    }
   ],
   "source": [
    "number = 1987\n",
    "movie_title = '1987'\n",
    "\n",
    "print('number의 자료형')\n",
    "print(type(number))\n",
    "print('\\n') # 문자열로 \\n을 출력하면 줄 바꿈이 됩니다\n",
    "print('movie_title의 자료형')\n",
    "print(type(movie_title))"
   ]
  },
  {
   "cell_type": "code",
   "execution_count": 69,
   "id": "e310a62e",
   "metadata": {},
   "outputs": [
    {
     "name": "stdout",
     "output_type": "stream",
     "text": [
      "1987 재미없다\n"
     ]
    }
   ],
   "source": [
    "print(movie_title + \" 재미없다\")"
   ]
  },
  {
   "cell_type": "code",
   "execution_count": 70,
   "id": "d0aeff6d",
   "metadata": {},
   "outputs": [
    {
     "ename": "NameError",
     "evalue": "name 'insert' is not defined",
     "output_type": "error",
     "traceback": [
      "\u001b[1;31m---------------------------------------------------------------------------\u001b[0m",
      "\u001b[1;31mNameError\u001b[0m                                 Traceback (most recent call last)",
      "\u001b[1;32mC:\\Users\\Public\\Documents\\ESTsoft\\CreatorTemp/ipykernel_22184/4107585971.py\u001b[0m in \u001b[0;36m<module>\u001b[1;34m\u001b[0m\n\u001b[1;32m----> 1\u001b[1;33m \u001b[0minsert\u001b[0m\u001b[1;33m(\u001b[0m\u001b[1;33m)\u001b[0m\u001b[1;33m\u001b[0m\u001b[1;33m\u001b[0m\u001b[0m\n\u001b[0m",
      "\u001b[1;31mNameError\u001b[0m: name 'insert' is not defined"
     ]
    }
   ],
   "source": []
  },
  {
   "cell_type": "code",
   "execution_count": 73,
   "id": "106d84ba",
   "metadata": {},
   "outputs": [
    {
     "name": "stdout",
     "output_type": "stream",
     "text": [
      "==========\n"
     ]
    }
   ],
   "source": [
    "print('=' * 10)"
   ]
  },
  {
   "cell_type": "code",
   "execution_count": 74,
   "id": "6e122e71",
   "metadata": {},
   "outputs": [],
   "source": [
    "my_list = [3,4,5,6,6,7]"
   ]
  },
  {
   "cell_type": "code",
   "execution_count": 75,
   "id": "67df8ecb",
   "metadata": {},
   "outputs": [
    {
     "name": "stdout",
     "output_type": "stream",
     "text": [
      "[3, 4, 5, 6, 6, 7]\n"
     ]
    }
   ],
   "source": [
    "print(my_list)"
   ]
  },
  {
   "cell_type": "code",
   "execution_count": 77,
   "id": "2eecfd6d",
   "metadata": {},
   "outputs": [
    {
     "data": {
      "text/plain": [
       "6"
      ]
     },
     "execution_count": 77,
     "metadata": {},
     "output_type": "execute_result"
    }
   ],
   "source": [
    "my_list.pop()"
   ]
  },
  {
   "cell_type": "code",
   "execution_count": 79,
   "id": "fa1f6e09",
   "metadata": {},
   "outputs": [
    {
     "name": "stdout",
     "output_type": "stream",
     "text": [
      "[3, 4, 5, 6]\n"
     ]
    }
   ],
   "source": [
    "print(my_list)"
   ]
  },
  {
   "cell_type": "code",
   "execution_count": 85,
   "id": "a3818545",
   "metadata": {},
   "outputs": [
    {
     "name": "stdout",
     "output_type": "stream",
     "text": [
      "<class 'dict'>\n"
     ]
    }
   ],
   "source": [
    "customer = {\n",
    "    'id' : ' onyu',\n",
    "    'name' : '정온유',\n",
    "    'age' : 40\n",
    "    \n",
    "}\n",
    "\n",
    "print(type(customer))"
   ]
  },
  {
   "cell_type": "code",
   "execution_count": 87,
   "id": "29bb53c3",
   "metadata": {},
   "outputs": [
    {
     "ename": "SyntaxError",
     "evalue": "invalid syntax (CreatorTemp/ipykernel_22184/3205943365.py, line 1)",
     "output_type": "error",
     "traceback": [
      "\u001b[1;36m  File \u001b[1;32m\"C:\\Users\\Public\\Documents\\ESTsoft\\CreatorTemp/ipykernel_22184/3205943365.py\"\u001b[1;36m, line \u001b[1;32m1\u001b[0m\n\u001b[1;33m    item_ dict = {}\u001b[0m\n\u001b[1;37m          ^\u001b[0m\n\u001b[1;31mSyntaxError\u001b[0m\u001b[1;31m:\u001b[0m invalid syntax\n"
     ]
    }
   ],
   "source": [
    "item_ dict = {}"
   ]
  },
  {
   "cell_type": "code",
   "execution_count": 88,
   "id": "c151a9a2",
   "metadata": {},
   "outputs": [
    {
     "name": "stdout",
     "output_type": "stream",
     "text": [
      "True\n"
     ]
    }
   ],
   "source": [
    "print((3 > 5) and (4 > 6) or (5 == 5))"
   ]
  },
  {
   "cell_type": "code",
   "execution_count": 90,
   "id": "9c42c662",
   "metadata": {},
   "outputs": [
    {
     "name": "stdout",
     "output_type": "stream",
     "text": [
      "True\n"
     ]
    }
   ],
   "source": [
    "apples = 3\n",
    "bananas = 5\n",
    "\n",
    "\n",
    "print((apples < bananas))"
   ]
  },
  {
   "cell_type": "code",
   "execution_count": 92,
   "id": "bb27a9c2",
   "metadata": {},
   "outputs": [
    {
     "name": "stdout",
     "output_type": "stream",
     "text": [
      "반복문 진행 중...\n",
      "1번째 반복했습니다\n",
      "반복문 진행 중...\n",
      "3번째 반복했습니다\n",
      "반복문 진행 중...\n",
      "5번째 반복했습니다\n",
      "반복문 진행 중...\n",
      "7번째 반복했습니다\n",
      "반복문 진행 중...\n",
      "9번째 반복했습니다\n",
      "\n",
      "탈출에 성공하였습니다\n",
      "탈출에 성공했을 때의 i의 값: 11\n"
     ]
    }
   ],
   "source": [
    "i = 1\n",
    "while i < 10:\n",
    "  print('반복문 진행 중...')\n",
    "  print(f'{i}번째 반복했습니다')\n",
    "  i = i + 2 # 탈출 조건 만들기\n",
    "\n",
    "print('\\n탈출에 성공하였습니다')\n",
    "print(f'탈출에 성공했을 때의 i의 값: {i}')"
   ]
  },
  {
   "cell_type": "code",
   "execution_count": 96,
   "id": "809ed097",
   "metadata": {},
   "outputs": [
    {
     "ename": "SyntaxError",
     "evalue": "invalid syntax (CreatorTemp/ipykernel_22184/1648215149.py, line 5)",
     "output_type": "error",
     "traceback": [
      "\u001b[1;36m  File \u001b[1;32m\"C:\\Users\\Public\\Documents\\ESTsoft\\CreatorTemp/ipykernel_22184/1648215149.py\"\u001b[1;36m, line \u001b[1;32m5\u001b[0m\n\u001b[1;33m    for in scores:\u001b[0m\n\u001b[1;37m        ^\u001b[0m\n\u001b[1;31mSyntaxError\u001b[0m\u001b[1;31m:\u001b[0m invalid syntax\n"
     ]
    }
   ],
   "source": [
    "scores = [90, 70, 85, 90, 100, 95, 80, 95]\n",
    "total_score = 0\n",
    "\n",
    "# 과목별 성적의 합계를 구해 전체 성적(total_score)를 구합니다\n",
    "for in scores:\n",
    "    total_score = 0\n",
    "\n",
    "average_score =  # 평균 성적을 구해봅시다\n",
    "print(average_score)"
   ]
  },
  {
   "cell_type": "code",
   "execution_count": null,
   "id": "85a1e18e",
   "metadata": {},
   "outputs": [],
   "source": []
  },
  {
   "cell_type": "code",
   "execution_count": null,
   "id": "764d1ec9",
   "metadata": {},
   "outputs": [],
   "source": []
  }
 ],
 "metadata": {
  "kernelspec": {
   "display_name": "Python 3 (ipykernel)",
   "language": "python",
   "name": "python3"
  },
  "language_info": {
   "codemirror_mode": {
    "name": "ipython",
    "version": 3
   },
   "file_extension": ".py",
   "mimetype": "text/x-python",
   "name": "python",
   "nbconvert_exporter": "python",
   "pygments_lexer": "ipython3",
   "version": "3.9.7"
  }
 },
 "nbformat": 4,
 "nbformat_minor": 5
}
