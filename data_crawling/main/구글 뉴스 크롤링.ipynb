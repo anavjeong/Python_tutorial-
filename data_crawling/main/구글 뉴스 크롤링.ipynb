{
 "cells": [
  {
   "cell_type": "code",
   "execution_count": 140,
   "id": "a1090912",
   "metadata": {},
   "outputs": [],
   "source": [
    "from selenium import webdriver\n",
    "from selenium.webdriver.common.by import By\n",
    "from selenium.webdriver.common.keys import Keys\n",
    "import time\n",
    "import urllib.request\n"
   ]
  },
  {
   "cell_type": "code",
   "execution_count": 141,
   "id": "280586ee",
   "metadata": {},
   "outputs": [],
   "source": [
    "driver = webdriver.Chrome()"
   ]
  },
  {
   "cell_type": "code",
   "execution_count": 142,
   "id": "55dc025a",
   "metadata": {},
   "outputs": [],
   "source": [
    "driver.get(\"https://www.google.co.kr/imghp?hl=ko&tab=wi&authuser=0&ogbl\")"
   ]
  },
  {
   "cell_type": "code",
   "execution_count": null,
   "id": "be2028fd",
   "metadata": {},
   "outputs": [],
   "source": []
  },
  {
   "cell_type": "code",
   "execution_count": 143,
   "id": "73a5af0d",
   "metadata": {},
   "outputs": [],
   "source": [
    "elem = driver.find_element(By.XPATH,'/html/body/div[1]/div[3]/form/div[1]/div[1]/div[1]/div/div[2]/input')\n",
    "name = '주차안내'\n",
    "elem.send_keys(name)\n",
    "elem.send_keys(Keys.RETURN)"
   ]
  },
  {
   "cell_type": "code",
   "execution_count": 144,
   "id": "8f6023e8",
   "metadata": {},
   "outputs": [],
   "source": [
    "SCROLL_PAUSE_TIME = 1\n",
    "last_height = driver.execute_script(\"return document.body.scrollHeight\")\n",
    "\n",
    "while True:\n",
    "    # Scroll down to bottom\n",
    "    driver.execute_script(\"window.scrollTo(0, document.body.scrollHeight);\")\n",
    "    # Wait to load page\n",
    "    time.sleep(SCROLL_PAUSE_TIME)\n",
    "    # Calculate new scroll height and compare with last scroll height\n",
    "    new_height = driver.execute_script(\"return document.body.scrollHeight\")\n",
    "    if new_height == last_height:\n",
    "        try:\n",
    "            driver.find_element(By.CLASS_NAME,\"mye4qd\").click()\n",
    "        except:\n",
    "            break\n",
    "    last_height = new_height"
   ]
  },
  {
   "cell_type": "code",
   "execution_count": 145,
   "id": "ecb92172",
   "metadata": {},
   "outputs": [],
   "source": [
    "\n",
    "images = driver.find_elements(By.XPATH, \"//div[1]/div[1]/a[1]/div[1]/img\")\n",
    "count = 1\n",
    "for image in images:\n",
    "    try:\n",
    "        image.click()\n",
    "        time.sleep(2)\n",
    "        imgUrl = driver.find_element(By.XPATH, '//*[@id=\"Sva75c\"]/div/div/div/div[3]/div[2]/c-wiz/div[2]/div[1]/div[1]/div[2]/div/a/img').get_attribute(\"src\")\n",
    "        path = \"\" + name + \"C:/Users\\onyou/Pictures/test//\" +name+ \"//\" #저장할 경로\n",
    "        urllib.request.urlretrieve(imgUrl, path + name + str(count) + \".jpg\")\n",
    "        count = count + 1\n",
    "        if count > 260: #다운 받을 이미지 갯수 조정\n",
    "            break\n",
    "        count = count + 1\n",
    "    except:\n",
    "        pass\n",
    "\n"
   ]
  },
  {
   "cell_type": "code",
   "execution_count": 173,
   "id": "37c766dc",
   "metadata": {},
   "outputs": [],
   "source": [
    "\n",
    "imgs = driver.find_elements(By.XPATH, \"isv-r\")\n",
    "for img in imgs:\n",
    "    try:\n",
    "        img.click()\n",
    "        time.sleep(2)\n",
    "        imgUrl = driver.find_element(By.XPATH, '//*[@id=\"Sva75c\"]/div[2]/div/div/div[3]/div[2]/c-wiz/div[2]/div[1]/div[1]/div[2]/div/a/img').get_attribute(\"src\") # 크게 뜬 이미지 선택하여 \"src\" 속성을 받아옴\n",
    "        path = \"C:/Users\\onyou/Pictures/test//\" + name + \"//\" #저장할 경로\n",
    "        urllib.request.urlretrieve(imgUrl, path + name + str(count) + \".jpg\")\n",
    "        count = count + 1\n",
    "        if count > 260: #다운 받을 이미지 갯수 조정\n",
    "            break\n",
    "    except:\n",
    "            pass"
   ]
  },
  {
   "cell_type": "code",
   "execution_count": 174,
   "id": "742db8bc",
   "metadata": {},
   "outputs": [
    {
     "ename": "IndentationError",
     "evalue": "unexpected indent (CreatorTemp/ipykernel_16520/1994864357.py, line 2)",
     "output_type": "error",
     "traceback": [
      "\u001b[1;36m  File \u001b[1;32m\"C:\\Users\\Public\\Documents\\ESTsoft\\CreatorTemp/ipykernel_16520/1994864357.py\"\u001b[1;36m, line \u001b[1;32m2\u001b[0m\n\u001b[1;33m    opener.addheaders=[('User-Agent','Mozilla/5.0 (Windows NT 6.1; WOW64) AppleWebKit/537.36 (KHTML, like Gecko) Chrome/36.0.1941.0 Safari/537.36')]\u001b[0m\n\u001b[1;37m    ^\u001b[0m\n\u001b[1;31mIndentationError\u001b[0m\u001b[1;31m:\u001b[0m unexpected indent\n"
     ]
    }
   ],
   "source": [
    "pener=urllib.request.build_opener()\n",
    "        opener.addheaders=[('User-Agent','Mozilla/5.0 (Windows NT 6.1; WOW64) AppleWebKit/537.36 (KHTML, like Gecko) Chrome/36.0.1941.0 Safari/537.36')]\n",
    "        urllib.request.install_opener(opener)\n",
    "        urllib.request.urlretrieve(imgUrl, str(count) + \".jpg\")"
   ]
  },
  {
   "cell_type": "code",
   "execution_count": 175,
   "id": "8446387d",
   "metadata": {},
   "outputs": [
    {
     "data": {
      "text/plain": [
       "'data:image/jpeg;base64,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'"
      ]
     },
     "execution_count": 175,
     "metadata": {},
     "output_type": "execute_result"
    }
   ],
   "source": [
    "driver.find_element(By.XPATH, '//*[@id=\"Sva75c\"]/div[2]/div/div/div[3]/div[2]/c-wiz/div[2]/div[1]/div[1]/div[2]/div/a/img').get_attribute(\"src\")\n"
   ]
  },
  {
   "cell_type": "code",
   "execution_count": 139,
   "id": "40a6bd23",
   "metadata": {},
   "outputs": [],
   "source": []
  },
  {
   "cell_type": "code",
   "execution_count": null,
   "id": "703f7472",
   "metadata": {},
   "outputs": [],
   "source": []
  }
 ],
 "metadata": {
  "kernelspec": {
   "display_name": "Python 3 (ipykernel)",
   "language": "python",
   "name": "python3"
  },
  "language_info": {
   "codemirror_mode": {
    "name": "ipython",
    "version": 3
   },
   "file_extension": ".py",
   "mimetype": "text/x-python",
   "name": "python",
   "nbconvert_exporter": "python",
   "pygments_lexer": "ipython3",
   "version": "3.9.7"
  }
 },
 "nbformat": 4,
 "nbformat_minor": 5
}
