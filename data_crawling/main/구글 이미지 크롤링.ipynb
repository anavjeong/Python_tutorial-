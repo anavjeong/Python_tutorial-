{
 "cells": [
  {
   "cell_type": "code",
   "execution_count": 5,
   "id": "a1f0ef6e",
   "metadata": {},
   "outputs": [],
   "source": [
    "from selenium import webdriver\n",
    "from urllib.request import urlopen\n",
    "from bs4 import BeautifulSoup as bs\n",
    "from urllib.parse import quote_plus\n",
    "from selenium.webdriver.common.keys import Keys\n",
    "from selenium.webdriver.common.by import By\n",
    "import time\n",
    "import urllib.request\n",
    "\n"
   ]
  },
  {
   "cell_type": "code",
   "execution_count": 6,
   "id": "d5e3466f",
   "metadata": {},
   "outputs": [],
   "source": [
    "driver = webdriver.Chrome()\n",
    "driver.get(\"https://www.google.co.kr/search?q=%EC%A3%BC%EC%B0%A8%EC%95%88%EB%82%B4&source=lnms&tbm=isch&sa=X&ved=2ahUKEwjWpIzp_sb7AhXLa94KHRKUCMMQ_AUoAXoECAEQAw&biw=982&bih=700&dpr=1.25\")\n"
   ]
  },
  {
   "cell_type": "code",
   "execution_count": 17,
   "id": "b1e94af3",
   "metadata": {},
   "outputs": [
    {
     "name": "stdout",
     "output_type": "stream",
     "text": [
      "바른병원\n",
      "연세세인트성형외과\n",
      "부산치과, 부산임플란트 시에스cs치과병원 임플란트ㅣ 부산전체임플란트, 부산디지털임플란트\n",
      "곱창전문점 곱\n",
      "안양도시공사\n",
      "마포푸르메스포츠센터\n",
      "네이버 블로그\n",
      "큐병원\n",
      "구미시청\n",
      "CGV\n",
      "안산효요양병원\n",
      "삼성미즈산후조리원\n",
      "월화고기\n",
      "네이버 블로그\n",
      "경희재활요양병원\n",
      "경기도의료원\n",
      "분당척병원\n",
      "서울창업디딤터\n",
      "광주바로병원\n",
      "www.sisul.or.kr\n",
      "건국대학교병원\n",
      "윌스기념병원\n",
      "유승박.김경진내과\n",
      "힘찬병원\n",
      "NEWS 글보기 > 서비스도시\n",
      "송파어린이문화회관\n",
      "충북을 새롭게, 도민을 신나게 충청북도 홈페이지\n",
      "서울주얼리산업협동조합\n",
      "GM제일산부인과\n",
      "www.airport.kr\n",
      "분야별정보 - 서울시\n",
      "서울혁신파크\n",
      "코엑스 ORGANIZER\n",
      "희명병원\n",
      "영진전문대학교 응급구조교육센터\n",
      "원광대학교병원\n",
      "덕근닷컴\n",
      "치카비\n",
      "경향하우징페어\n",
      "더베이101\n",
      "창원대학교\n",
      "수서교회\n",
      "천안공동체네트워크 함께이룸\n",
      "강변 테크노 마트\n",
      "롯데월드\n",
      "연합뉴스\n",
      "신라아이파크면세점\n",
      "예스폼\n"
     ]
    }
   ],
   "source": [
    "names = driver.find_elements(By.CLASS_NAME,'dmeZbb')\n",
    "middles = driver.find_elements(By.XPATH,'//*[@id=\"islrg\"]/div[1]/div[1]/a[2]/span')\n",
    "\n",
    "for name in names:\n",
    "    print(name.text)\n",
    "    \n",
    "    for \n",
    "\n",
    "\n",
    "    "
   ]
  },
  {
   "cell_type": "code",
   "execution_count": null,
   "id": "1fa63c30",
   "metadata": {},
   "outputs": [],
   "source": []
  }
 ],
 "metadata": {
  "kernelspec": {
   "display_name": "Python 3 (ipykernel)",
   "language": "python",
   "name": "python3"
  },
  "language_info": {
   "codemirror_mode": {
    "name": "ipython",
    "version": 3
   },
   "file_extension": ".py",
   "mimetype": "text/x-python",
   "name": "python",
   "nbconvert_exporter": "python",
   "pygments_lexer": "ipython3",
   "version": "3.9.7"
  }
 },
 "nbformat": 4,
 "nbformat_minor": 5
}
