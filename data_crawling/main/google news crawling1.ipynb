{
 "cells": [
  {
   "cell_type": "markdown",
   "id": "0de88573",
   "metadata": {},
   "source": [
    "# 구글 뉴스 크롤링 10페이지"
   ]
  },
  {
   "cell_type": "code",
   "execution_count": 33,
   "id": "d0c86fd6",
   "metadata": {},
   "outputs": [],
   "source": [
    "from selenium import webdriver\n",
    "from selenium.webdriver.common.by import By\n",
    "import time"
   ]
  },
  {
   "cell_type": "code",
   "execution_count": 34,
   "id": "2655f5f3",
   "metadata": {},
   "outputs": [],
   "source": [
    "browser = webdriver.Chrome()"
   ]
  },
  {
   "cell_type": "code",
   "execution_count": 35,
   "id": "39f24272",
   "metadata": {},
   "outputs": [],
   "source": [
    "url = \"https://www.google.com/search?q=google&rlz=1C1CHBD_koKR974KR976&source=lnms&tbm=nws&sa=X&ved=2ahUKEwjc7cGg-vz6AhXS7GEKHQwQCSAQ_AUoBHoECAEQBg&biw=767&bih=691&dpr=1.25\""
   ]
  },
  {
   "cell_type": "code",
   "execution_count": 36,
   "id": "285ef393",
   "metadata": {},
   "outputs": [],
   "source": [
    "browser.get(url)"
   ]
  },
  {
   "cell_type": "code",
   "execution_count": null,
   "id": "701c85fb",
   "metadata": {},
   "outputs": [],
   "source": []
  },
  {
   "cell_type": "code",
   "execution_count": 37,
   "id": "5b9c10db",
   "metadata": {},
   "outputs": [
    {
     "name": "stdout",
     "output_type": "stream",
     "text": [
      "크롤링하고 싶은 단어를 입력하세요.안녕\n",
      "크롤링하고자 하는 페이지수를 입력하세요.5\n",
      "['효자동, 주민 안녕과 만복 기원해', '[인터뷰] \"내인생은 오로지 음악 뿐... \\'영원한 가왕\\' 뜨거운 안녕의 ...', '신둔면 주민자치회, 면민의 안녕을 기원하는 느티나무 노거수제 ...', \"아산시, '안녕, 맹씨행단!' 역사체험 교육 운영\", '이천시 신둔면 주민자치회, 면민의 안녕을 기원하는 느티나무 ...', '사천시자원봉사센터, 경남 안녕 캠페인 ‘바다의 시작’ 활동 진행', \"안산시 발전과 시민의 안녕 기원 '잿머리 성황제'\", '양화리 은행나무, 목신께 세종시 안녕 빌었다', \"빨리 늙는 '소아조로증' 홍원기, 17세에 먹먹한 '안녕' 준비 '눈물 ...\", \"아산, '안녕, 맹씨행단!' 역사체험 교육 운영\", \"하동군, 화개골 정금마을 무사 안녕 '정금제' 거행\", '수원시 장안구, 마을의 무사안녕 기원 영화동 당제 (堂祭) 열려', '\\'소아조로증\\' 홍원기, 가족과 이별 준비...母 \"웃을 수 있는 장례식 ...', \"미추홀구, 주민의 안녕·풍요 기원 ‘제5회 인천 원도사제' 성황리 성료\", \"강화군 자원봉사센터, 안녕 캠페인 '탄소중립 폐자원을 새자원으로'\", '수원시 청년정책 실행방안 모색… 4기 조정위원회 가동', \"신봉선, 눈가 시술 후유증은 '안녕~'? 완전 자리 잡은 듯 표정이 ...\", \"구직 스트레스 덜어주는 '디디작업실' 문 활짝\", '합천군자원봉사센터, 남정초교와 안녕캠페인', \"아산시, '안녕, 맹씨행단!' 역사체험 교육 운영\", '용인시 \"겨울철 도로 안전 이상무\" 38개 노선 중점관리', '수원시 청년정책 실행방안 모색… 4기 조정위원회 가동', '이상일 \"광역교통 대책 없는 개발사업 주민에 피해\"', '양에게 안녕이라고 말하기까지 - 경북매일', '단양군종합자원봉사지원센터, \"2022 안녕 충북! 릴레이 자원 ...', '한라산신제 봉행...도민안녕-국태민안 기원', '(스마트개발과) 세계 환경변화 및 국제정세 흐름 읽는 온라인 ...', \"한지민(39세), 욘더 사진첩 공개에 '이제 안녕'\", '대구 수성구, 복지사각지대 발굴 안녕 나의 이웃 성종', \"하동 화개골 정금마을, 무사 안녕 '정금제' 거행\", \"용인시, 안전사고 우려 둔전리 쉼터 '자연친화 공간' 리모델링\", \"'안녕, 맹씨행단!' 역사체험 참가자 접수 < 문화 < 뉴스 < 기사본문\", \"단양군종합자원봉사센터, '2022 안녕 충북! 릴레이' 자원봉사 개최\", '김의겸의 가벼운 입, 당내서도 역풍', '현장중심 의정으로 民意 대변에 충실', \"'2차 추경' 화급한데 양주시·의회 신경전… 주민만 피해\", '막차 걱정 이젠 안녕! 안산시, 심야 부엉이 버스 개통', '27일 수원 일자리박람회 가면 ‘직장’이 보인다', \"서초문화재단, 반포도서관에서 '2022 반포도서관 예술인파견 ...\", '서현진, 출산 후 생긴 쥐젖 60개 제거 “콤플렉스 이제는 안녕”']\n"
     ]
    }
   ],
   "source": [
    "search_word = input('크롤링하고 싶은 단어를 입력하세요.')\n",
    "page = int(input('크롤링하고자 하는 페이지수를 입력하세요.'))\n",
    "\n",
    "title = []\n",
    "url = \"https://www.google.com/search?q={}%EB%89%B4%EC%8A%A4&hl=ko&tbs=qdr:w&tbm=nws&ei=GL1YY9y5LcjN-Qao3rawDA&start={}&sa=N&ved=2ahUKEwjcpYvbjP36AhXIZt4KHSivDcYQ8tMDegQIBBAE&biw=1286&bih=746&dpr=1.25\"\n",
    "for i in range(0, page*10, 10):\n",
    "    final_url = url.format(search_word, i)\n",
    "    browser.get(final_url)\n",
    "    \n",
    "    time.sleep(3)\n",
    "    browser.implicitiy_wait(10)\n",
    "    titles = browser.find_elements(By.CLASS_NAME, 'mCBkyc')\n",
    "    \n",
    "    \n",
    "    \n",
    "    for i in titles:\n",
    "        temp_title = i.text\n",
    "        temp_title = temp_title.replace(\",\", \"\")\n",
    "        title.append(i.text)\n",
    "    \n",
    "print(title)\n",
    "    "
   ]
  },
  {
   "cell_type": "code",
   "execution_count": null,
   "id": "daf25cf2",
   "metadata": {},
   "outputs": [],
   "source": [
    "page  = int(input('크롤링'))\n",
    "\n",
    "for i in range(0,page*10,10):\n",
    "    url =\"google.com/page={}\".format(i)\n",
    "    print(url)\n",
    "    "
   ]
  },
  {
   "cell_type": "code",
   "execution_count": 19,
   "id": "1926f12e",
   "metadata": {},
   "outputs": [
    {
     "data": {
      "text/plain": [
       "['온유약품, 코리아세일페스타에서 건강기능식품 최대 85% 할인',\n",
       " '최온유·장가을, 말레이시아 주니어 테니스 여자복식 우승',\n",
       " '최온유, 말레이시아 국제 주니어테니스 여자 단식 4강 진출',\n",
       " 'ITF 쿠알라룸푸르 주니어 대회 복식 우승한 장가을-최온유, 단식 ...',\n",
       " '“故 엘리자베스 2세, 겸손·온유·통합으로 영연방 지속성 보여줘”',\n",
       " '女 테니스 유망주 장가을, 올해 2번째 국제 대회 2관왕',\n",
       " '온유한 날들',\n",
       " \"솔로 앨범 ' DICE'로 돌아온 샤이니 온유｜마리끌레르\",\n",
       " '샤이니 온유, 日 솔로 투어 성료…\"행복한 시간\"',\n",
       " '온유, 팀과 솔로를 구분 짓지 않고 뛰어드는 모험']"
      ]
     },
     "execution_count": 19,
     "metadata": {},
     "output_type": "execute_result"
    }
   ],
   "source": [
    "title = []\n",
    "titles = browser.find_elements(By.CLASS_NAME, 'mCBkyc')\n",
    "\n",
    "\n",
    "for i in titles:\n",
    "    temp_title = i.text\n",
    "    temp_title = temp_title.replace(\",\", \"\")\n",
    "    title.append(i.text)\n",
    "    \n",
    "\n",
    "title"
   ]
  },
  {
   "cell_type": "code",
   "execution_count": null,
   "id": "3c8a7e29",
   "metadata": {},
   "outputs": [],
   "source": []
  },
  {
   "cell_type": "code",
   "execution_count": null,
   "id": "94b13ada",
   "metadata": {},
   "outputs": [],
   "source": []
  }
 ],
 "metadata": {
  "kernelspec": {
   "display_name": "Python 3 (ipykernel)",
   "language": "python",
   "name": "python3"
  },
  "language_info": {
   "codemirror_mode": {
    "name": "ipython",
    "version": 3
   },
   "file_extension": ".py",
   "mimetype": "text/x-python",
   "name": "python",
   "nbconvert_exporter": "python",
   "pygments_lexer": "ipython3",
   "version": "3.9.7"
  }
 },
 "nbformat": 4,
 "nbformat_minor": 5
}
